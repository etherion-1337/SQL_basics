{
 "cells": [
  {
   "cell_type": "markdown",
   "metadata": {},
   "source": [
    "# This is a summary for basic SQL command for postgreSQL\n",
    "\n",
    "No data is linked to this notebook yet, so don't run !"
   ]
  },
  {
   "cell_type": "markdown",
   "metadata": {},
   "source": [
    "## 1. Basic select column from a table"
   ]
  },
  {
   "cell_type": "code",
   "execution_count": null,
   "metadata": {},
   "outputs": [],
   "source": [
    "SELECT name From people"
   ]
  },
  {
   "cell_type": "markdown",
   "metadata": {},
   "source": [
    "## 2. Select multiple columns"
   ]
  },
  {
   "cell_type": "code",
   "execution_count": null,
   "metadata": {},
   "outputs": [],
   "source": [
    "# select one col\n",
    "SELECT name, birthday FROM people\n",
    "# select all cols\n",
    "SELECT * FROM people\n",
    "# select all cols, but limit rows\n",
    "SELECT * FROM people LIMIT 10"
   ]
  },
  {
   "cell_type": "markdown",
   "metadata": {},
   "source": [
    "## 3. Select Distinct\n",
    "\n",
    "select all the unique values from a column"
   ]
  },
  {
   "cell_type": "code",
   "execution_count": null,
   "metadata": {},
   "outputs": [],
   "source": [
    "SELECT DISTINCT language FROM films"
   ]
  },
  {
   "cell_type": "markdown",
   "metadata": {},
   "source": [
    "## 4. Count\n",
    "\n",
    "count the number of rows in one or more columns"
   ]
  },
  {
   "cell_type": "code",
   "execution_count": null,
   "metadata": {},
   "outputs": [],
   "source": [
    "SELECT COUNT(*) FROM people"
   ]
  },
  {
   "cell_type": "markdown",
   "metadata": {},
   "source": [
    "## 5. filtering: WHERE"
   ]
  },
  {
   "cell_type": "code",
   "execution_count": null,
   "metadata": {},
   "outputs": [],
   "source": [
    "SELECT title FROM films WHERE title = 'Metropolis' #single quote must\n",
    "SELECT title FROM films WHERE title <> 'Metropolis' #<> is not equal here\n",
    "SELECT * FROM films WHERE budget > 1000 #numerical"
   ]
  },
  {
   "cell_type": "markdown",
   "metadata": {},
   "source": [
    "## 6. Multiple condition: WHERE AND / WHERE OR"
   ]
  },
  {
   "cell_type": "code",
   "execution_count": null,
   "metadata": {},
   "outputs": [],
   "source": [
    "SELECT title FROM films WHERE release_year > 1994 AND release_year < 2000\n",
    "SELECT title FROM films WHERE release_year > 1994 OR release_year < 2000"
   ]
  },
  {
   "cell_type": "markdown",
   "metadata": {},
   "source": [
    "## 7. checking range: BETWEEN (instead of WHERE AND)"
   ]
  },
  {
   "cell_type": "code",
   "execution_count": null,
   "metadata": {},
   "outputs": [],
   "source": [
    "SELECT title FROM films WHERE release_year BETWEEN 1994 AND 2000 #both ends inclusive"
   ]
  },
  {
   "cell_type": "markdown",
   "metadata": {},
   "source": [
    "## 8. WHERE IN: specify multiple values in a WHERE cluase (instead of WHERE OR many times)"
   ]
  },
  {
   "cell_type": "code",
   "execution_count": null,
   "metadata": {},
   "outputs": [],
   "source": [
    "SELECT name FROM kids WHERE age IN (2,4,6,8,10)\n",
    "\n",
    "#same as\n",
    "SELECT name\n",
    "FROM kids\n",
    "WHERE age = 2\n",
    "OR age = 4\n",
    "OR age = 6\n",
    "OR age = 8\n",
    "OR age = 10;"
   ]
  },
  {
   "cell_type": "markdown",
   "metadata": {},
   "source": [
    "## 9. NULL and IS NULL and IS NOT NULL\n",
    "\n",
    "In SQL, NULL represent missing or unknown value."
   ]
  },
  {
   "cell_type": "code",
   "execution_count": null,
   "metadata": {},
   "outputs": [],
   "source": [
    "#count the number of missing birthdates in the people table:\n",
    "SELECT COUNT(*)\n",
    "FROM people\n",
    "WHERE birthdate IS NULL;\n",
    "\n",
    "#names of all people whose birth dates are not missing\n",
    "SELECT name\n",
    "FROM people\n",
    "WHERE birthdate IS NOT NULL;"
   ]
  },
  {
   "cell_type": "markdown",
   "metadata": {},
   "source": [
    "## 10. LIKE and NOT LIKE\n",
    "\n",
    "Used in a WHERE cluase to search for pattern.    \n",
    "% match zero,one or many char in text    \n",
    "_ match one char    "
   ]
  },
  {
   "cell_type": "code",
   "execution_count": null,
   "metadata": {},
   "outputs": [],
   "source": [
    "SELECT name\n",
    "FROM companies\n",
    "WHERE name LIKE 'Data%'; #matches 'Data', 'DataC' 'DataCamp', 'DataMind'\n",
    "\n",
    "SELECT name\n",
    "FROM companies\n",
    "WHERE name LIKE 'DataC_mp'; # matches 'DataCamp', 'DataComp'"
   ]
  },
  {
   "cell_type": "markdown",
   "metadata": {},
   "source": [
    "## 11. Aggregate functions"
   ]
  },
  {
   "cell_type": "code",
   "execution_count": null,
   "metadata": {},
   "outputs": [],
   "source": [
    "SELECT AVG(budget)\n",
    "FROM films;\n",
    "\n",
    "SELECT MAX(budget)\n",
    "FROM films;\n",
    "\n",
    "SELECT MAX(budget)\n",
    "FROM films;\n",
    "\n",
    "SELECT SUM(budget)\n",
    "FROM films;"
   ]
  },
  {
   "cell_type": "markdown",
   "metadata": {},
   "source": [
    "## 12. Aliasing: AS\n",
    "\n",
    "change output col name"
   ]
  },
  {
   "cell_type": "code",
   "execution_count": null,
   "metadata": {},
   "outputs": [],
   "source": [
    "SELECT MAX(budget) AS max_budget,\n",
    "       MAX(duration) AS max_duration\n",
    "FROM films;"
   ]
  },
  {
   "cell_type": "markdown",
   "metadata": {},
   "source": [
    "## 13. ORDER BY\n",
    "\n",
    "used to sort results in ascending or descending order according to the values of one or more columns.   \n",
    "\n",
    "By default ORDER BY will sort in ascending order. If you want to sort the results in descending order, you can use the DESC keyword. For example,"
   ]
  },
  {
   "cell_type": "code",
   "execution_count": null,
   "metadata": {},
   "outputs": [],
   "source": [
    "#sort single col\n",
    "SELECT title\n",
    "FROM films\n",
    "ORDER BY release_year DESC;\n",
    "\n",
    "#sort multiple cols\n",
    "SELECT birthdate, name\n",
    "FROM people\n",
    "ORDER BY birthdate, name; # the order of col matters. First sort birthdates(oldest to newest, then sort names in alpha order"
   ]
  },
  {
   "cell_type": "markdown",
   "metadata": {},
   "source": [
    "## 14. GROUP BY\n",
    "\n",
    "GROUP BY allows you to group a result by one or more columns.    \n",
    "Commonly, GROUP BY is used with aggregate functions like COUNT() or MAX(). Note that GROUP BY always goes after the FROM clause!"
   ]
  },
  {
   "cell_type": "code",
   "execution_count": null,
   "metadata": {},
   "outputs": [],
   "source": [
    "SELECT sex, count(*)\n",
    "FROM employees\n",
    "GROUP BY sex;\n",
    "\n",
    "SELECT sex, count(*)\n",
    "FROM employees\n",
    "GROUP BY sex\n",
    "ORDER BY count DESC; #ORDER BY is last"
   ]
  },
  {
   "cell_type": "markdown",
   "metadata": {},
   "source": [
    "## 15. HAVING\n",
    "\n",
    "In SQL, aggregate functions can't be used in WHERE clauses.    \n",
    "This means that if you want to filter based on the result of an aggregate function, you need another way! That's where the HAVING clause comes in.   "
   ]
  },
  {
   "cell_type": "code",
   "execution_count": null,
   "metadata": {},
   "outputs": [],
   "source": [
    "# NOT valid\n",
    "SELECT release_year\n",
    "FROM films\n",
    "GROUP BY release_year\n",
    "WHERE COUNT(title) > 10;\n",
    "\n",
    "#valid\n",
    "SELECT release_year\n",
    "FROM films\n",
    "GROUP BY release_year\n",
    "HAVING COUNT(title) > 10;"
   ]
  },
  {
   "cell_type": "markdown",
   "metadata": {},
   "source": [
    "## 16. Query information_schema with SELECT\n",
    "\n",
    "information_schema is a meta-database that holds information about your current database. information_schema has multiple tables you can query with the known SELECT * FROM syntax:   \n",
    "\n",
    "tables: information about all tables in your current database    \n",
    "columns: information about all columns in all of the tables in your current database    \n",
    "\n",
    "The 'public' schema holds information about user-defined tables and databases.    "
   ]
  },
  {
   "cell_type": "code",
   "execution_count": null,
   "metadata": {},
   "outputs": [],
   "source": [
    "#Query the right table in information_schema\n",
    "# output is the name of the table\n",
    "SELECT table_name \n",
    "FROM information_schema.tables\n",
    "#Specify the correct table_schema value\n",
    "WHERE table_schema = 'public';\n",
    "\n",
    "# Query the right table in information_schema to get columns\n",
    "SELECT column_name, data_type \n",
    "FROM information_schema.columns\n",
    "WHERE table_name = 'university_professors' AND table_schema = 'public';"
   ]
  },
  {
   "cell_type": "markdown",
   "metadata": {},
   "source": [
    "## 17. Create new tables with CREATE TABLE"
   ]
  },
  {
   "cell_type": "code",
   "execution_count": null,
   "metadata": {},
   "outputs": [],
   "source": [
    "# sample template\n",
    "CREATE TABLE table_name (\n",
    "column_a data_type,\n",
    "column_b data_type,\n",
    "column_c data_type\n",
    ");\n",
    "\n",
    "# e.g.\n",
    "CREATE TABLE weather (\n",
    "clouds text,\n",
    "temperature numeric,\n",
    "weather_station char(5)\n",
    ");"
   ]
  },
  {
   "cell_type": "markdown",
   "metadata": {},
   "source": [
    "## 18. ADD a COLUMN with ALTER TABLE"
   ]
  },
  {
   "cell_type": "code",
   "execution_count": null,
   "metadata": {},
   "outputs": [],
   "source": [
    "# sample syntax\n",
    "ALTER TABLE table_name\n",
    "ADD COLUMN column_name data_type;"
   ]
  },
  {
   "cell_type": "markdown",
   "metadata": {},
   "source": [
    "## 19. INSERT DISTINCT records INTO new tables"
   ]
  },
  {
   "cell_type": "code",
   "execution_count": null,
   "metadata": {},
   "outputs": [],
   "source": [
    "INSERT INTO organizations # new table, or target table\n",
    "SELECT DISTINCT organizations, #select the col from the source table, only copy over distinct organization\n",
    "organization_sector\n",
    "FROM university_professors #source table\n",
    "\n",
    "#normal INSERT INTO usage\n",
    "INSERT INTO table_name (column_a, column_b)\n",
    "VALUES (\"value_a\",\"value_b\");"
   ]
  },
  {
   "cell_type": "markdown",
   "metadata": {},
   "source": [
    "## 20. RENAME a COLUMN"
   ]
  },
  {
   "cell_type": "code",
   "execution_count": null,
   "metadata": {},
   "outputs": [],
   "source": [
    "ALTER TABLE table_name\n",
    "RENAME COLUMN old_name TO new_name;"
   ]
  },
  {
   "cell_type": "markdown",
   "metadata": {},
   "source": [
    "## 21. DROP a COLUMN"
   ]
  },
  {
   "cell_type": "code",
   "execution_count": null,
   "metadata": {},
   "outputs": [],
   "source": [
    "ALTER TABLE table_name\n",
    "DROP COLUMN column_name;"
   ]
  },
  {
   "cell_type": "markdown",
   "metadata": {},
   "source": [
    "## 22. Integrity constraits\n",
    "\n",
    "1) Attribute constraints: e.g. data types on columns   \n",
    "2) Key constraints: e.g. primary keys   \n",
    "3) Referential integrity constraints:  enforced through foreign keys, A record in table A cannot point to a record in table B that does not exist.    \n",
    "\n",
    "Referential integrity is violated if:    \n",
    "if a record in table B that is referenced from a record in table A is deleted.      \n",
    "if a record in table A referencing a non-existing record from table B is inserted.     \n",
    "\n",
    "\n",
    "Constraints give the data structure, help with consistency and data quality    \n",
    "\n",
    "\n",
    "Data types defined \"domain\" (what form these values should take) of a column and therefore what operations are possible   \n",
    "text: char strings of any length    \n",
    "varchar[(x)] a max of n char    \n",
    "char[(x)] a fixed length string of n char    \n",
    "boolean: only TRUE, FALSE and NULL (unknown) is allowed    \n",
    "date, time and timestamp     \n",
    "numeric: arbitray precision numbers (e.g. numeric(3,2) e.g. 5.54)    \n",
    "integer or bigint"
   ]
  },
  {
   "cell_type": "markdown",
   "metadata": {},
   "source": [
    "## 23. type CAST"
   ]
  },
  {
   "cell_type": "code",
   "execution_count": null,
   "metadata": {},
   "outputs": [],
   "source": [
    "SELECT CAST(some_column AS integer) #some_column is text type originally, this CAST is temporarily\n",
    "FROM table;"
   ]
  },
  {
   "cell_type": "markdown",
   "metadata": {},
   "source": [
    "## 24. ALTER types after table creation"
   ]
  },
  {
   "cell_type": "code",
   "execution_count": null,
   "metadata": {},
   "outputs": [],
   "source": [
    "ALTER TABLE students\n",
    "ALTER COLUMN name\n",
    "TYPE varchar(128)"
   ]
  },
  {
   "cell_type": "markdown",
   "metadata": {},
   "source": [
    "## 25. USING"
   ]
  },
  {
   "cell_type": "code",
   "execution_count": null,
   "metadata": {},
   "outputs": [],
   "source": [
    "ALTER TABLE students\n",
    "ALTER COLUMN average_grade\n",
    "TYPE integer\n",
    "# turns 5.54 into 6, not 5, before type conversion\n",
    "USING ROUND(average_grade)\n",
    "\n",
    "\n",
    "# Because you want to reserve only x characters for column_name, \n",
    "#you have to retain a SUBSTRING of every value, i.e. the first x characters of it, \n",
    "#and throw away the rest. This way, the values will fit the varchar(x) requirement.\n",
    "ALTER TABLE table_name\n",
    "ALTER COLUMN column_name\n",
    "TYPE varchar(x)\n",
    "USING SUBSTRING(column_name FROM 1 FOR x)"
   ]
  },
  {
   "cell_type": "markdown",
   "metadata": {},
   "source": [
    "## 26 not-null constraint\n",
    "\n",
    "disallow NuLL values in a certain column   \n",
    "this persist though current state and also future state    \n"
   ]
  },
  {
   "cell_type": "code",
   "execution_count": null,
   "metadata": {},
   "outputs": [],
   "source": [
    "#create a table with not-null constraints\n",
    "CREATE TABLE students (\n",
    "ssn integer not null,\n",
    "hone_phone integer\n",
    ");\n",
    "\n",
    "#alter the table has been created\n",
    "ALTER TABLE students\n",
    "ALTER COLUMN home_phone\n",
    "SET NOT NULL;\n",
    "\n",
    "#alter the table has been created\n",
    "ALTER TABLE students\n",
    "ALTER COLUMN ssn\n",
    "DROP NOT NULL;"
   ]
  },
  {
   "cell_type": "markdown",
   "metadata": {},
   "source": [
    "## 27. the unique constraints\n",
    "\n",
    "disallow duplicate values in a column   \n"
   ]
  },
  {
   "cell_type": "code",
   "execution_count": null,
   "metadata": {},
   "outputs": [],
   "source": [
    "#create a table with unique constraits\n",
    "CREATE TABLE students (\n",
    "ssn integer UNIQUE\n",
    ");\n",
    "\n",
    "#alter the table has been created\n",
    "ALTER TABLE students\n",
    "ADD CONSTRAINT some_name UNIQUE(columne_name) #you have to give the constraint a name some_name\n"
   ]
  },
  {
   "cell_type": "markdown",
   "metadata": {},
   "source": [
    "## 28. Keys and super keys\n",
    "\n",
    "Keys are attributes that uniquely identify a record in a table.   \n",
    "Super keys: as long as attribute can be removed. Normally the combination of all attribute in a table should be unique, hence each row is a superkey.    \n",
    "If no more attribute can be removed, and each record can still be uniquely identified, it is called a minimal superkey or **key**.    \n",
    "\n",
    "Identify a key:   \n",
    "1) Count the distinct records for all possible combinations of columns. If the resulting number x equals the number of all rows in the table for a combination, you have discovered a superkey.   \n",
    "\n",
    "2) Then remove one column after another until you can no longer remove columns without seeing the number x decrease. If that is the case, you have discovered a (candidate) key.   \n",
    "\n",
    "**Primary Keys:**     \n",
    "(Almost) Every database table should have a primary key.    \n",
    "Primary keys need to be defined on columns that don't accept NULL or duplicate values.    \n",
    "Primary keys constraits must be time-invariant (applicable for now and future)    \n",
    "\n",
    "**Surrogate Keys:**    \n",
    "They are keys that not part of the existing columns for data, but on a column that exist just for the sake of having a primary key.    \n",
    "\n",
    "\n",
    "**Foreign Keys:**    \n",
    "A foreign key points to the primary key of another table.    \n",
    "The domain and datatype must be the same as the primary key.    \n",
    "Each value of foreign key must exist in primary key of the other table (referential integrity)     \n",
    "Foreign keys are not actual key: duplicates and NULLs are allowed.     \n",
    "\n",
    "1 to N relationship:    \n",
    "implemented using 1 foreign key in the table that has at most one foreign entity associated.     \n",
    "\n",
    "N to M relationship:    \n",
    "create a table with 2 foreign keys that point to both connected entity (points the two primary key of the 2 connected tables.)\n"
   ]
  },
  {
   "cell_type": "code",
   "execution_count": null,
   "metadata": {},
   "outputs": [],
   "source": [
    "#example of specifying a primary key\n",
    "CREATE TABLE products (\n",
    "product_no integer PRIMARY KEY,\n",
    "name text,\n",
    "price numeric\n",
    ");\n",
    "\n",
    "#multiple cols as primary key\n",
    "CREATE TABLE example (\n",
    "a integer,\n",
    "b integer,\n",
    "c integer,\n",
    "PRIMARY KEY (a,c)\n",
    ");\n",
    "\n",
    "#adding primary constraints to existing table\n",
    "ALTER TABLE table_name\n",
    "ADD CONSTRAINT some_name PRIMARY KEY (column_name) # you also need to give the key some name like the unqiye constraint\n",
    "\n",
    "# e.g.\n",
    "# Make id a primary key\n",
    "ALTER TABLE organizations\n",
    "ADD CONSTRAINT organization_pk PRIMARY KEY (id);"
   ]
  },
  {
   "cell_type": "code",
   "execution_count": null,
   "metadata": {},
   "outputs": [],
   "source": [
    "# adding a surrogate key with serial data type\n",
    "ALTER TABLE cars\n",
    "ADD COLUMN id serial PRIMARY KEY; # all entry will be numbered\n",
    "\n",
    "#add new record to table: cars, which has 3 column + id (auto incremented upon adding)\n",
    "INSERT INTO cars\n",
    "VALUES('Volkswagen','Blitz','black')"
   ]
  },
  {
   "cell_type": "code",
   "execution_count": null,
   "metadata": {},
   "outputs": [],
   "source": [
    "# create a surrogate key by combining 2 exising cols into a new one\n",
    "#add a new col with varchar datatype\n",
    "ALTER TABLE table_name\n",
    "ADD COLUMN column_c varchar(256);\n",
    "\n",
    "#update that column with the concatanaiton of the two exisiting cols.\n",
    "UPDATE table_name\n",
    "SET column_c = CONCAT(column_a, column_b);\n",
    "\n",
    "#turn that col into a primary key\n",
    "ALTER TABLE table_name\n",
    "ADD CONSTRIANT pk PRIMARY KEY (column_c);"
   ]
  },
  {
   "cell_type": "code",
   "execution_count": null,
   "metadata": {},
   "outputs": [],
   "source": [
    "# modeling 1 to N relationship\n",
    "# specifying foreign keys\n",
    "CREATE TABLE manufacturers (\n",
    "name varchar(255) PRIMARY KEY\n",
    ");\n",
    "\n",
    "INSERT INTO manufacturers\n",
    "VALUE ('Ford'),('VW'),('GM');\n",
    "\n",
    "CREATE TABLE cars (\n",
    "model varchar(255) PRIMARY KEY,\n",
    "manufacturer_name integer REFERENCES manufacturers(name)\n",
    ");\n",
    "\n",
    "INSERT INTO cars\n",
    "VALUES ('Ranger','Ford'),('Beetle','VW');\n",
    "\n",
    "#only cars with valid and exisiting manufacturers can enter this table\n",
    "\n",
    "\n",
    "#specifying foreign keys to existing tables\n",
    "ALTER TABLE a\n",
    "ADD CONSTRAINT a_fkey FOREIGN KEY (b_id) REFERENCES b (id);"
   ]
  },
  {
   "cell_type": "code",
   "execution_count": null,
   "metadata": {},
   "outputs": [],
   "source": [
    "#modelling n to m relationship\n",
    "# create a table with addition attribute called function (specific in this example)\n",
    "# this table connects N:M between professors and organization\n",
    "#no primary key is defined ! (threse three cols can uniquely identify an entry)\n",
    "CREATE TABLE affiliations (\n",
    "professor_id integer REFERENCES professors (id),\n",
    "organization_id varchar(256) REFERENCES organization (id),\n",
    "function varchar(256)\n",
    ");"
   ]
  },
  {
   "cell_type": "code",
   "execution_count": null,
   "metadata": {},
   "outputs": [],
   "source": [
    "# update columns of a table based on values in another table\n",
    "# For each row in table_a, find the corresponding row in table_b where condition1, condition2, etc., \n",
    "# are met.\n",
    "Set the value of column_to_update to the value of column_to_update_from (from that corresponding row)\n",
    "UPDATE table_a\n",
    "SET column_to_update = table_b.column_to_update_from\n",
    "FROM table_b\n",
    "WHERE condition1 AND condition2 AND ...;\n"
   ]
  },
  {
   "cell_type": "code",
   "execution_count": null,
   "metadata": {},
   "outputs": [],
   "source": [
    "# Dealing with referential integrity violation\n",
    "# tell database what if an entry in the referenced table is deleted.\n",
    "CREATE TABLE a (\n",
    "id integer PRIMARY KEY,\n",
    "column_a varchar(64),\n",
    "b_id integer REFERENCES b (id) ON DELETE NO ACTION\n",
    "); #by default, on delete no action is applied\n",
    "#if you try to delete a record in table b, the system will throw an error.\n",
    "\n",
    "CREATE TABLE a (\n",
    "id integer PRIMARY KEY,\n",
    "column_a varchar(64),\n",
    "b_id integer REFERENCES b (id) ON DELETE CASCADE\n",
    "); # allow the delection a record from table b, then auto delete all referencing record in table a\n",
    "\n",
    "ON DELETE RESTRICT # almost same as no action, throw an error\n",
    "ON DELETE SET NULL # set the value of this foreign key to null\n",
    "ON DELETE SET DEFAULT #need preset a default first, then fill in that default value, if the referenced record is deleted"
   ]
  },
  {
   "cell_type": "markdown",
   "metadata": {},
   "source": [
    "## 29. Inner Join (with INNER JOIN)\n",
    "\n",
    "Assuming we have two table: left_table and right_table (each table with id(key) and val(value) column, and multiple rows)     \n",
    "\n",
    "With inner joins we look for matches in the right_table corresponding to all entries in the key field in the left_table.      \n",
    "Also introducing table alias:    \n",
    "For tables you also use AS to add the alias immediately after the table name with a space"
   ]
  },
  {
   "cell_type": "code",
   "execution_count": null,
   "metadata": {},
   "outputs": [],
   "source": [
    "# example of inner join\n",
    "SELECT p1.country, p1.continent #because both table as country and continent, so need p1. (first table alias below)\n",
    "       prime_minister, president \n",
    "FROM prime_ministers AS p1\n",
    "INNER JOIN presidents AS p2\n",
    "ON p1.country = p2.country;"
   ]
  },
  {
   "cell_type": "code",
   "execution_count": null,
   "metadata": {},
   "outputs": [],
   "source": [
    "# multiple inner join\n",
    "SELECT *\n",
    "FROM left_table\n",
    "  INNER JOIN right_table\n",
    "    ON left_table.id = right_table.id\n",
    "  INNER JOIN another_table\n",
    "    ON left_table.id = another_table.id;"
   ]
  },
  {
   "cell_type": "markdown",
   "metadata": {},
   "source": [
    "## 30. Inner Join (with USING)\n",
    "\n",
    "If the id from both table are the same, instead of:      \n",
    "ON p1.country = p2.country      \n",
    "we can use:      \n",
    "USING (country)      \n"
   ]
  },
  {
   "cell_type": "code",
   "execution_count": null,
   "metadata": {},
   "outputs": [],
   "source": [
    "# example of inner join, with USING\n",
    "SELECT p1.country, p1.continent #because both table as country and continent, so need p1. (first table alias below)\n",
    "       prime_minister, president \n",
    "FROM prime_ministers AS p1\n",
    "INNER JOIN presidents AS p2\n",
    "USING (country)"
   ]
  },
  {
   "cell_type": "markdown",
   "metadata": {},
   "source": [
    "## 31. Self Join\n",
    "\n",
    "Self-joins are used to compare values in a field to other values of the same field from within the same table.     \n"
   ]
  },
  {
   "cell_type": "code",
   "execution_count": null,
   "metadata": {},
   "outputs": [],
   "source": [
    "SELECT p1.country AS country1, p2.country AS country2, p1.continent\n",
    "FROM prime_ministers AS p1\n",
    "INNER JOIN prime_minister AS p2\n",
    "ON p1.continent = p2.continent AND p1.country <> p2,country #2nd arg eliminate paring with itself"
   ]
  },
  {
   "cell_type": "markdown",
   "metadata": {},
   "source": [
    "## 32. CASE (with WHEN, THEN)\n",
    "\n",
    "works with numerical values"
   ]
  },
  {
   "cell_type": "code",
   "execution_count": null,
   "metadata": {},
   "outputs": [],
   "source": [
    "SELECT name, continent, indep_year,\n",
    "CASE WHEN indep_year < 1990 THEN 'before 1900'\n",
    "WHEN indep_year <= 1930 THEN 'between 1900 and 1930'\n",
    "ELSE 'after 1930' END\n",
    "AS indep_year_group #creates a new col named indep_year_group with label above('before 1900' etc)\n",
    "FROM states\n",
    "ORDER BY indep_year_group;"
   ]
  },
  {
   "cell_type": "code",
   "execution_count": null,
   "metadata": {},
   "outputs": [],
   "source": [
    "# bonus: create a new table named country_plus using INTO\n",
    "SELECT name, continent, code, surface_area,\n",
    "    CASE WHEN surface_area > 2000000\n",
    "            THEN 'large'\n",
    "       WHEN surface_area > 350000\n",
    "            THEN 'medium'\n",
    "       ELSE 'small' END\n",
    "       AS geosize_group\n",
    "INTO countries_plus\n",
    "FROM countries;"
   ]
  },
  {
   "cell_type": "markdown",
   "metadata": {},
   "source": [
    "## 33. Outer Join : LEFT JOIN, RIGHT JOIN, FULL JOIN\n",
    "\n",
    "Left Join:     \n",
    "keeps all the record in the left_table, then marks the values as  missing in the right_table for thoese that don't have a match. Unmatched records in the right_table are ignored.       \n",
    "If one record in the left_table (i.e. key) matches with multiple records in the right_table (i.e. with their key in the right_table), then there will be multiple record in the joined table (each corresponding to a record in right_table with the same record id in the left_table)       \n",
    "\n",
    "Right Join:     \n",
    "Same as left join just that it does the reverse.       \n",
    "\n",
    "Full Join:     \n",
    "Essentially combines left join and right join.    \n",
    "It will bring in all records from both the left_table and right_table and keep track of the missing values accordingly.     \n",
    "If select all cols from the two tables, it will create 4 cols (left_id right_id left_val right_val with corresponding missing values)       \n",
    "\n",
    "Order matters when doing full join, the output will look abit different.     \n",
    "\n",
    "\n",
    "\n",
    "\n",
    "\n",
    "\n"
   ]
  },
  {
   "cell_type": "code",
   "execution_count": null,
   "metadata": {},
   "outputs": [],
   "source": [
    "# left join example\n",
    "SELECT p1.country, prime_minister, president\n",
    "FROM prime_ministers AS p1\n",
    "LEFT JOIN president AS p2\n",
    "ON p1.country = p2.country;\n",
    "\n"
   ]
  },
  {
   "cell_type": "code",
   "execution_count": null,
   "metadata": {},
   "outputs": [],
   "source": [
    "# right join\n",
    "SELECT right_table.id AS R_id\n",
    "left_table.val AS L_val,\n",
    "right_table.val AS R_val\n",
    "FROM left_table\n",
    "RIGHT JOIN right_table\n",
    "ON left_table.id = right_table.id"
   ]
  },
  {
   "cell_type": "code",
   "execution_count": null,
   "metadata": {},
   "outputs": [],
   "source": [
    "# FULL join syntax\n",
    "SELECT left_table.id AS L_id,\n",
    "right_table.id AS R_id,\n",
    "left_table.val AS L_val,\n",
    "right_table.val AS R_val\n",
    "FROM left_table\n",
    "FULL JOIN right_table\n",
    "USING (id)"
   ]
  },
  {
   "cell_type": "markdown",
   "metadata": {},
   "source": [
    "## 34. Cross Join\n",
    "\n",
    "\n",
    "Create all possible combination of two tables (i.e. all combination on the left_id and right_id).     \n",
    "\n"
   ]
  },
  {
   "cell_type": "code",
   "execution_count": null,
   "metadata": {},
   "outputs": [],
   "source": [
    "# example of cross join\n",
    "SELECT prime_minister, president\n",
    "FROM prime_ministers AS p1\n",
    "CROSS JOIN presidents AS p2\n",
    "WHERE p1.continent IN ('North America', 'Ocenia')"
   ]
  },
  {
   "cell_type": "markdown",
   "metadata": {},
   "source": [
    "## 35. Set theory: union, union all, intersect, except\n",
    "\n",
    "They only bind fields on top of one another in the two tables (not like join)     \n",
    "**NOTE** intersect look for RECORDS in common, NOT individual key field like what a join deos to match     \n",
    "same data type required since they return a single field (column)     \n",
    "union all: similar to union, but double counting the intersection.     \n",
    "excet: results in only these records in one table but not the other.     \n"
   ]
  },
  {
   "cell_type": "code",
   "execution_count": null,
   "metadata": {},
   "outputs": [],
   "source": [
    "#union\n",
    "# primister and monarch\n",
    "SELECT prime_minister AS leader, country\n",
    "FROM prime_ministers\n",
    "UNION\n",
    "SELECT monarchs, country\n",
    "FROM monarchs\n",
    "ORDER BY country;"
   ]
  },
  {
   "cell_type": "code",
   "execution_count": null,
   "metadata": {},
   "outputs": [],
   "source": [
    "# intersect on one field\n",
    "SELECT country\n",
    "FROM prime_ministers\n",
    "INTERSECT\n",
    "SELECT country\n",
    "FROM presidents;"
   ]
  },
  {
   "cell_type": "code",
   "execution_count": null,
   "metadata": {},
   "outputs": [],
   "source": [
    "#intersect on two field\n",
    "# in this case it will return country leader that has the same country, same prime minsiter and same president.\n",
    "# i.e. a country with same name for prime minister and president\n",
    "SELECT country, prime_minister AS leader #only two col will be returned: coutnry and leader\n",
    "FROM prime_ministers\n",
    "INTERSECT\n",
    "SELECT country, president\n",
    "FROM presients;"
   ]
  },
  {
   "cell_type": "code",
   "execution_count": null,
   "metadata": {},
   "outputs": [],
   "source": [
    "#except\n",
    "# monarchs that aren't prime minister\n",
    "SELECT monarch, country\n",
    "FROM monarchs\n",
    "EXCEPT\n",
    "SELECT prime_minister, country\n",
    "FROM primme_ministers;"
   ]
  },
  {
   "cell_type": "markdown",
   "metadata": {},
   "source": [
    "## 36. Semi-join and Anti-join (subqueries)\n",
    "\n",
    "Use a right table to determine which records to keep in the left table.     \n",
    "In a way similar to a WHERE clause dependent on the values of a second table     \n",
    "\n",
    "Semi-join:     \n",
    "chooses records in the first table where a condition is met in a second table.    \n",
    "\n",
    "Anti-join:     \n",
    "choose records in the first table where a condition is not met in the second table.    "
   ]
  },
  {
   "cell_type": "code",
   "execution_count": null,
   "metadata": {},
   "outputs": [],
   "source": [
    "#semi-join\n",
    "\n",
    "#WHERE clause\n",
    "SELECT name\n",
    "FROM states\n",
    "WHERE indep_year<1800\n",
    "\n",
    "#display certain field\n",
    "SELECT president, country, continent\n",
    "FROM president;\n",
    "\n",
    "# combine\n",
    "# use the first queiry as the condition for the second one\n",
    "SELECT president, country, continent\n",
    "FROM presidents\n",
    "WHERE country IN\n",
    "    (SELECT name\n",
    "    FROM states\n",
    "    WHERE indep_year < 1800);\n"
   ]
  },
  {
   "cell_type": "code",
   "execution_count": null,
   "metadata": {},
   "outputs": [],
   "source": [
    "# anit-join\n",
    "SELECT president, country, continent\n",
    "FROM presidents\n",
    "WHERE country NOT IN\n",
    "    (SELECT name\n",
    "    FROM states\n",
    "    WHERE indep_year < 1800);\n"
   ]
  },
  {
   "cell_type": "markdown",
   "metadata": {},
   "source": [
    "## 37. Nested query (subquery): WHERE and SELECT\n",
    "\n",
    "Most common type of subquery is one inside of a WHERE statemebt     \n"
   ]
  },
  {
   "cell_type": "code",
   "execution_count": null,
   "metadata": {},
   "outputs": [],
   "source": [
    "#e.g. Asian countries below average \"fert_rate\"\n",
    "# subqueries in a WHERE clause\n",
    "SELECT name, fert_rate\n",
    "FROM states\n",
    "WHERE continent = 'Asia'\n",
    "AND fert_rate < \n",
    "(SELECT AVG(fert_rate)\n",
    "FROM states);"
   ]
  },
  {
   "cell_type": "code",
   "execution_count": null,
   "metadata": {},
   "outputs": [],
   "source": [
    "# subqueries in a SELECT clause\n",
    "# e.g. count the number of countries listed in the states table for each continent in the prime minsiter table\n",
    "SELECT DISTINCT continent,\n",
    "(SELECT COUNT(*)\n",
    "FROM states\n",
    "WHERE prime_ministers.continent = states.continent) AS contries_num #subqueiry in SELECT needs an alias to display\n",
    "FROM prime_ministers;"
   ]
  },
  {
   "cell_type": "markdown",
   "metadata": {},
   "source": [
    "## 38. Subquery: FROM\n",
    "\n"
   ]
  },
  {
   "cell_type": "code",
   "execution_count": null,
   "metadata": {},
   "outputs": [],
   "source": [
    "#build-up\n",
    "#maximum percentage of women in parliament for each continet listed in states tabble\n",
    "SELECT continent, MAX(woemn_parli_perc) AS max_perc\n",
    "FROM states\n",
    "GROUP BY continent\n",
    "ORDER BY continent;\n",
    "\n",
    "#if we only interested in those the monachs table\n",
    "SELECT DISTINCT monarchs.continent, subquery.max_perc\n",
    "FROM monarch,\n",
    "    (SELECT continent, MAX(women_parli_perc) AS MAX_perc\n",
    "    FROM states\n",
    "    GROUP BY continent) AS subquery #need the alias, this is a temprorary table for FROM\n",
    "WHERE monarchs.continent = subquery.continent\n",
    "ORDER BY continent;"
   ]
  },
  {
   "cell_type": "code",
   "execution_count": null,
   "metadata": {},
   "outputs": [],
   "source": []
  },
  {
   "cell_type": "code",
   "execution_count": null,
   "metadata": {},
   "outputs": [],
   "source": []
  },
  {
   "cell_type": "code",
   "execution_count": null,
   "metadata": {},
   "outputs": [],
   "source": []
  },
  {
   "cell_type": "code",
   "execution_count": null,
   "metadata": {},
   "outputs": [],
   "source": []
  }
 ],
 "metadata": {
  "kernelspec": {
   "display_name": "Python 3",
   "language": "python",
   "name": "python3"
  },
  "language_info": {
   "codemirror_mode": {
    "name": "ipython",
    "version": 3
   },
   "file_extension": ".py",
   "mimetype": "text/x-python",
   "name": "python",
   "nbconvert_exporter": "python",
   "pygments_lexer": "ipython3",
   "version": "3.7.3"
  }
 },
 "nbformat": 4,
 "nbformat_minor": 4
}
