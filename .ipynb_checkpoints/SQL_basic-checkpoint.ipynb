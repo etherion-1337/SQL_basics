{
 "cells": [
  {
   "cell_type": "markdown",
   "metadata": {},
   "source": [
    "# Python - Structured Query Language (SQL)"
   ]
  },
  {
   "cell_type": "markdown",
   "metadata": {},
   "source": [
    "A database consists of many tables that are linked.   \n",
    "Each (relational database) table generally represents one entity type. such as \"order\" or \"album\".   \n",
    "Each row (or record) represents an instance of the entity type, e.g. one order, one album etc.   \n",
    "Each column represents an attribute of each instance, e.g. order_date, artist etc.   \n",
    "Each row requires an unique identifier, known as the **primary key** so we can use to explicitly access the row in question.    \n",
    "A table can also have multiple **foreign keys** for each row, used to point to specific rows (primary key of the other table). \n"
   ]
  },
  {
   "cell_type": "markdown",
   "metadata": {},
   "source": [
    "## 0. Workflow of SQL querying\n",
    "\n",
    "-> Import packages and functions (e.g. sqlalchemy)   \n",
    "-> Create the database engine (create_engine)   \n",
    "-> Connect to the engine (con=engine.connect)   \n",
    "-> Query the database (rs=con.execute(), creates a SQLAlchemy results object which we assign to rs)     \n",
    "-> Save query results to a DataFrame (df=pd.DataFrame(rs.fetchall()), fetchall() fetches all rows)    \n",
    "-> Close the connection (con.close())    \n",
    "\n",
    "print(df.head()) to check\n"
   ]
  },
  {
   "cell_type": "markdown",
   "metadata": {},
   "source": [
    "## 1. SQLAlchemy\n",
    "\n",
    "There are a few ways (python) to connect to database, e.g. sqlite3. SQLAlchemy is used due to its compability with other Relational Database Management System, such as SQLite, MySQL and PostgreSQL.   \n",
    "\n",
    "From the function *create_engine* from sqlalchemy, we fire up an SQL engine that will communicate our queries to the database.   \n",
    "The only required argument of create_engine is a string that indicates the type of the database we are connecting to and name of the database."
   ]
  },
  {
   "cell_type": "code",
   "execution_count": 1,
   "metadata": {},
   "outputs": [],
   "source": [
    "from sqlalchemy import create_engine\n",
    "import pandas as pd\n",
    "engine = create_engine(\"sqlite:///Chinook.sqlite\") #if DB doesnt exist, create a new DB with the said name"
   ]
  },
  {
   "cell_type": "code",
   "execution_count": 9,
   "metadata": {},
   "outputs": [],
   "source": [
    "table_names = engine.table_names() #name of the tables in the DB"
   ]
  },
  {
   "cell_type": "code",
   "execution_count": 10,
   "metadata": {},
   "outputs": [
    {
     "name": "stdout",
     "output_type": "stream",
     "text": [
      "['Album', 'Artist', 'Customer', 'Employee', 'Genre', 'Invoice', 'InvoiceLine', 'MediaType', 'Playlist', 'PlaylistTrack', 'Track']\n"
     ]
    }
   ],
   "source": [
    "print(table_names)"
   ]
  },
  {
   "cell_type": "code",
   "execution_count": 22,
   "metadata": {},
   "outputs": [],
   "source": [
    "con = engine.connect() #connect to the engine\n",
    "rs = con.execute(\"SELECT * FROM Album\") #execute SQL command through the connection, get the results. *=all cols\n",
    "df = pd.DataFrame(rs.fetchall()) #convert result into a DF\n",
    "df.columns = rs.keys()\n",
    "con.close() "
   ]
  },
  {
   "cell_type": "code",
   "execution_count": 23,
   "metadata": {},
   "outputs": [
    {
     "name": "stdout",
     "output_type": "stream",
     "text": [
      "   AlbumId                                  Title  ArtistId\n",
      "0        1  For Those About To Rock We Salute You         1\n",
      "1        2                      Balls to the Wall         2\n",
      "2        3                      Restless and Wild         2\n",
      "3        4                      Let There Be Rock         1\n",
      "4        5                               Big Ones         3\n"
     ]
    }
   ],
   "source": [
    "print(df.head())"
   ]
  },
  {
   "cell_type": "code",
   "execution_count": 24,
   "metadata": {},
   "outputs": [
    {
     "name": "stdout",
     "output_type": "stream",
     "text": [
      "['AlbumId', 'Title', 'ArtistId']\n"
     ]
    }
   ],
   "source": [
    "print(rs.keys())"
   ]
  },
  {
   "cell_type": "markdown",
   "metadata": {},
   "source": [
    "## 1.1 Using the context manager\n",
    "\n",
    "no need to close connection"
   ]
  },
  {
   "cell_type": "code",
   "execution_count": 36,
   "metadata": {},
   "outputs": [],
   "source": [
    "from sqlalchemy import create_engine\n",
    "import pandas as pd\n",
    "engine = create_engine(\"sqlite:///Chinook.sqlite\")\n",
    "with engine.connect() as con:\n",
    "    rs = con.execute(\"SELECT * FROM Customer WHERE Country = 'Canada'\") #or select col names instead of *,'' instead of \"\"\n",
    "    df = pd.DataFrame(rs.fetchmany(size=5)) #fetch 5 rows\n",
    "    df.columns = rs.keys()"
   ]
  },
  {
   "cell_type": "code",
   "execution_count": 37,
   "metadata": {},
   "outputs": [
    {
     "name": "stdout",
     "output_type": "stream",
     "text": [
      "   CustomerId FirstName  LastName        Company                 Address  \\\n",
      "0           3  François  Tremblay           None       1498 rue Bélanger   \n",
      "1          14      Mark   Philips          Telus          8210 111 ST NW   \n",
      "2          15  Jennifer  Peterson  Rogers Canada     700 W Pender Street   \n",
      "3          29    Robert     Brown           None  796 Dundas Street West   \n",
      "4          30    Edward   Francis           None        230 Elgin Street   \n",
      "\n",
      "        City State Country PostalCode              Phone                Fax  \\\n",
      "0   Montréal    QC  Canada    H2G 1A7  +1 (514) 721-4711               None   \n",
      "1   Edmonton    AB  Canada    T6G 2C7  +1 (780) 434-4554  +1 (780) 434-5565   \n",
      "2  Vancouver    BC  Canada    V6C 1G8  +1 (604) 688-2255  +1 (604) 688-8756   \n",
      "3    Toronto    ON  Canada    M6J 1V1  +1 (416) 363-8888               None   \n",
      "4     Ottawa    ON  Canada    K2P 1L7  +1 (613) 234-3322               None   \n",
      "\n",
      "                 Email  SupportRepId  \n",
      "0  ftremblay@gmail.com             3  \n",
      "1   mphilips12@shaw.ca             5  \n",
      "2  jenniferp@rogers.ca             3  \n",
      "3     robbrown@shaw.ca             3  \n",
      "4  edfrancis@yachoo.ca             3  \n"
     ]
    }
   ],
   "source": [
    "print(df.head())"
   ]
  },
  {
   "cell_type": "code",
   "execution_count": 42,
   "metadata": {},
   "outputs": [
    {
     "name": "stdout",
     "output_type": "stream",
     "text": [
      "   CustomerId FirstName   LastName  \\\n",
      "0           1      Luís  Gonçalves   \n",
      "1           3  François   Tremblay   \n",
      "2          12   Roberto    Almeida   \n",
      "3          15  Jennifer   Peterson   \n",
      "4          18  Michelle     Brooks   \n",
      "\n",
      "                                            Company  \\\n",
      "0  Embraer - Empresa Brasileira de Aeronáutica S.A.   \n",
      "1                                              None   \n",
      "2                                            Riotur   \n",
      "3                                     Rogers Canada   \n",
      "4                                              None   \n",
      "\n",
      "                           Address                 City State Country  \\\n",
      "0  Av. Brigadeiro Faria Lima, 2170  São José dos Campos    SP  Brazil   \n",
      "1                1498 rue Bélanger             Montréal    QC  Canada   \n",
      "2                 Praça Pio X, 119       Rio de Janeiro    RJ  Brazil   \n",
      "3              700 W Pender Street            Vancouver    BC  Canada   \n",
      "4                     627 Broadway             New York    NY     USA   \n",
      "\n",
      "   PostalCode               Phone                 Fax  \\\n",
      "0   12227-000  +55 (12) 3923-5555  +55 (12) 3923-5566   \n",
      "1     H2G 1A7   +1 (514) 721-4711                None   \n",
      "2   20040-020  +55 (21) 2271-7000  +55 (21) 2271-7070   \n",
      "3     V6C 1G8   +1 (604) 688-2255   +1 (604) 688-8756   \n",
      "4  10012-2612   +1 (212) 221-3546   +1 (212) 221-4679   \n",
      "\n",
      "                           Email  SupportRepId  \n",
      "0           luisg@embraer.com.br             3  \n",
      "1            ftremblay@gmail.com             3  \n",
      "2  roberto.almeida@riotur.gov.br             3  \n",
      "3            jenniferp@rogers.ca             3  \n",
      "4              michelleb@aol.com             3  \n"
     ]
    }
   ],
   "source": [
    "with engine.connect() as con:\n",
    "    rs = con.execute(\"SELECT * FROM Customer ORDER BY SupportRepId\") #ordered by a specific col name\n",
    "    df = pd.DataFrame(rs.fetchall()) \n",
    "    df.columns = rs.keys()\n",
    "\n",
    "print(df.head())"
   ]
  },
  {
   "cell_type": "markdown",
   "metadata": {},
   "source": [
    "## 1.2 Use Pandas directly query database"
   ]
  },
  {
   "cell_type": "code",
   "execution_count": 45,
   "metadata": {},
   "outputs": [
    {
     "name": "stdout",
     "output_type": "stream",
     "text": [
      "   CustomerId  FirstName     LastName  \\\n",
      "0           1       Luís    Gonçalves   \n",
      "1           2     Leonie       Köhler   \n",
      "2           3   François     Tremblay   \n",
      "3           4      Bjørn       Hansen   \n",
      "4           5  František  Wichterlová   \n",
      "\n",
      "                                            Company  \\\n",
      "0  Embraer - Empresa Brasileira de Aeronáutica S.A.   \n",
      "1                                              None   \n",
      "2                                              None   \n",
      "3                                              None   \n",
      "4                                  JetBrains s.r.o.   \n",
      "\n",
      "                           Address                 City State         Country  \\\n",
      "0  Av. Brigadeiro Faria Lima, 2170  São José dos Campos    SP          Brazil   \n",
      "1          Theodor-Heuss-Straße 34            Stuttgart  None         Germany   \n",
      "2                1498 rue Bélanger             Montréal    QC          Canada   \n",
      "3                 Ullevålsveien 14                 Oslo  None          Norway   \n",
      "4                    Klanova 9/506               Prague  None  Czech Republic   \n",
      "\n",
      "  PostalCode               Phone                 Fax  \\\n",
      "0  12227-000  +55 (12) 3923-5555  +55 (12) 3923-5566   \n",
      "1      70174    +49 0711 2842222                None   \n",
      "2    H2G 1A7   +1 (514) 721-4711                None   \n",
      "3       0171     +47 22 44 22 22                None   \n",
      "4      14700    +420 2 4172 5555    +420 2 4172 5555   \n",
      "\n",
      "                      Email  SupportRepId  \n",
      "0      luisg@embraer.com.br             3  \n",
      "1     leonekohler@surfeu.de             5  \n",
      "2       ftremblay@gmail.com             3  \n",
      "3     bjorn.hansen@yahoo.no             4  \n",
      "4  frantisekw@jetbrains.com             4  \n"
     ]
    }
   ],
   "source": [
    "engine = create_engine(\"sqlite:///Chinook.sqlite\") #still need\n",
    "df = pd.read_sql_query(\"SELECT * FROM Customer\", engine)\n",
    "print(df.head())"
   ]
  },
  {
   "cell_type": "markdown",
   "metadata": {},
   "source": [
    "## 2. INNER JOIN\n",
    "\n",
    "SELECT X , Y FROM A INNER JOIN B ON A.I = B.I    \n",
    "X and Y are column in table A and B, and I is the \"common\" column in the the two table that links the data of the two table. *I* can be primary key in table A but foreign key in table B.   \n",
    "A.I means I cols in table A"
   ]
  },
  {
   "cell_type": "code",
   "execution_count": 46,
   "metadata": {},
   "outputs": [
    {
     "name": "stdout",
     "output_type": "stream",
     "text": [
      "                                   Title       Name\n",
      "0  For Those About To Rock We Salute You      AC/DC\n",
      "1                      Balls to the Wall     Accept\n",
      "2                      Restless and Wild     Accept\n",
      "3                      Let There Be Rock      AC/DC\n",
      "4                               Big Ones  Aerosmith\n"
     ]
    }
   ],
   "source": [
    "engine = create_engine('sqlite:///Chinook.sqlite')\n",
    "with engine.connect() as con:\n",
    "    rs = con.execute(\"SELECT Title, Name FROM Album INNER JOIN ARTIST ON Album.ArtistID = Artist.ArtistID\")\n",
    "    df = pd.DataFrame(rs.fetchall())\n",
    "    df.columns=rs.keys()\n",
    "\n",
    "# Print head of DataFrame df\n",
    "print(df.head())"
   ]
  },
  {
   "cell_type": "code",
   "execution_count": 47,
   "metadata": {},
   "outputs": [
    {
     "name": "stdout",
     "output_type": "stream",
     "text": [
      "   PlaylistId  TrackId  TrackId              Name  AlbumId  MediaTypeId  \\\n",
      "0           1     3390     3390  One and the Same      271            2   \n",
      "1           1     3392     3392     Until We Fall      271            2   \n",
      "2           1     3393     3393     Original Fire      271            2   \n",
      "3           1     3394     3394       Broken City      271            2   \n",
      "4           1     3395     3395          Somedays      271            2   \n",
      "\n",
      "   GenreId Composer  Milliseconds    Bytes  UnitPrice  \n",
      "0       23     None        217732  3559040       0.99  \n",
      "1       23     None        230758  3766605       0.99  \n",
      "2       23     None        218916  3577821       0.99  \n",
      "3       23     None        228366  3728955       0.99  \n",
      "4       23     None        213831  3497176       0.99  \n"
     ]
    }
   ],
   "source": [
    "engine = create_engine('sqlite:///Chinook.sqlite')\n",
    "df=pd.read_sql_query(\"SELECT * FROM PlaylistTrack INNER JOIN Track on PlaylistTrack.TrackId = Track.TrackId WHERE Milliseconds < 250000\",engine)\n",
    "\n",
    "# Print head of DataFrame\n",
    "print(df.head())"
   ]
  },
  {
   "cell_type": "code",
   "execution_count": null,
   "metadata": {},
   "outputs": [],
   "source": []
  }
 ],
 "metadata": {
  "kernelspec": {
   "display_name": "Python 3",
   "language": "python",
   "name": "python3"
  },
  "language_info": {
   "codemirror_mode": {
    "name": "ipython",
    "version": 3
   },
   "file_extension": ".py",
   "mimetype": "text/x-python",
   "name": "python",
   "nbconvert_exporter": "python",
   "pygments_lexer": "ipython3",
   "version": "3.7.3"
  }
 },
 "nbformat": 4,
 "nbformat_minor": 2
}
